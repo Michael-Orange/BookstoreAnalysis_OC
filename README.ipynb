{
 "cells": [
  {
   "cell_type": "markdown",
   "metadata": {},
   "source": [
    "# Bookstore Chain Analysis\n",
    "\n",
    "- 1 script 'P4_cleaning.html' : cleaning and preparation of the datasets\n",
    "- 1 script 'P4_analysis.html' : data analysis\n",
    "- 1 file 'output_graphics' : all graphics created through 'P4_analysis'\n",
    "- 1 file 'P4_presentation.pdf' : presentation of the process and results\n",
    "\n",
    "\n",
    "## Usage\n",
    "\n",
    "Files are on html format so no specific process is required to use it.\n",
    "\n",
    "\n",
    "## Contributing\n",
    "Pull requests are welcome. \n",
    "All files are located here: https://github.com/Michael-Orange/BookstoreAnalysis_OC"
   ]
  },
  {
   "cell_type": "code",
   "execution_count": null,
   "metadata": {},
   "outputs": [],
   "source": []
  }
 ],
 "metadata": {
  "kernelspec": {
   "display_name": "Python 3",
   "language": "python",
   "name": "python3"
  },
  "language_info": {
   "codemirror_mode": {
    "name": "ipython",
    "version": 3
   },
   "file_extension": ".py",
   "mimetype": "text/x-python",
   "name": "python",
   "nbconvert_exporter": "python",
   "pygments_lexer": "ipython3",
   "version": "3.7.6"
  },
  "toc": {
   "base_numbering": 1,
   "nav_menu": {},
   "number_sections": true,
   "sideBar": true,
   "skip_h1_title": false,
   "title_cell": "Table of Contents",
   "title_sidebar": "Contents",
   "toc_cell": false,
   "toc_position": {},
   "toc_section_display": true,
   "toc_window_display": false
  }
 },
 "nbformat": 4,
 "nbformat_minor": 4
}
